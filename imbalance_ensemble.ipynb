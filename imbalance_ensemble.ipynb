{
 "cells": [
  {
   "cell_type": "code",
   "execution_count": 28,
   "metadata": {},
   "outputs": [],
   "source": [
    "from sklearn.datasets import make_classification\n",
    "from sklearn.model_selection import train_test_split\n",
    "from sklearn.metrics import balanced_accuracy_score, confusion_matrix\n",
    "from imblearn.ensemble import (BalancedBaggingClassifier, BalancedRandomForestClassifier,\n",
    "                               RUSBoostClassifier, EasyEnsembleClassifier)\n",
    "from imblearn.metrics import classification_report_imbalanced\n",
    "from sklearn.tree import DecisionTreeClassifier\n",
    "from sklearn.ensemble import BaggingClassifier, AdaBoostClassifier\n",
    "from sklearn.svm import LinearSVC\n",
    "from sklearn import metrics, svm\n",
    "import pandas as pd\n",
    "import numpy as np\n",
    "import itertools\n",
    "import matplotlib.pyplot as plt\n",
    "%matplotlib inline\n",
    "from mlxtend.plotting import plot_decision_regions\n",
    "from collections import Counter"
   ]
  },
  {
   "cell_type": "code",
   "execution_count": 4,
   "metadata": {},
   "outputs": [
    {
     "name": "stdout",
     "output_type": "stream",
     "text": [
      "Dados em cada uma das classes [(0, 63), (1, 262), (2, 4675)]\n"
     ]
    },
    {
     "data": {
      "text/plain": [
       "((5000, 6), (5000,))"
      ]
     },
     "execution_count": 4,
     "metadata": {},
     "output_type": "execute_result"
    }
   ],
   "source": [
    "X,y =make_classification(n_samples=5000, n_features=6, n_informative=2, n_classes=3, n_clusters_per_class=1,\n",
    "                        n_redundant=0,n_repeated=0,weights=[0.01,0.05,0.94],class_sep=0.8,random_state=0)\n",
    "print(\"Dados em cada uma das classes\",sorted(Counter(y).items()))\n",
    "X.shape, y.shape"
   ]
  },
  {
   "cell_type": "code",
   "execution_count": 19,
   "metadata": {},
   "outputs": [],
   "source": [
    "# funcão usada para imprimir a confusion matrix\n",
    "def plot_confusion_matrix(cm, classes,\n",
    "                          normalize=False,\n",
    "                          title='Confusion matrix',\n",
    "                          cmap=plt.cm.Blues):\n",
    "    if normalize:\n",
    "        cm = cm.astype('float') / cm.sum(axis=1)[:, np.newaxis]\n",
    "    else:\n",
    "        print('')\n",
    "\n",
    "\n",
    "    plt.imshow(cm, interpolation='nearest', cmap=cmap)\n",
    "    plt.title(title)\n",
    "    plt.colorbar()\n",
    "    tick_marks = np.arange(len(classes))\n",
    "    plt.xticks(tick_marks, classes, rotation=45)\n",
    "    plt.yticks(tick_marks, classes)\n",
    "\n",
    "    fmt = '.2f' if normalize else 'd'\n",
    "    thresh = cm.max() / 2.\n",
    "    for i, j in itertools.product(range(cm.shape[0]), range(cm.shape[1])):\n",
    "        plt.text(j, i, format(cm[i, j], fmt),\n",
    "                 horizontalalignment=\"center\",\n",
    "                 color=\"white\" if cm[i, j] > thresh else \"black\")\n",
    "\n",
    "    plt.ylabel('True label')\n",
    "    plt.xlabel('Predicted label')\n",
    "    plt.tight_layout()"
   ]
  },
  {
   "cell_type": "markdown",
   "metadata": {},
   "source": [
    "## Modelo imbalanced"
   ]
  },
  {
   "cell_type": "markdown",
   "metadata": {},
   "source": [
    "### 1. Bagging Classifier"
   ]
  },
  {
   "cell_type": "markdown",
   "metadata": {},
   "source": [
    "O método bagging faz uso de vários estimadores aplicados a diferentes amostras selecionadas aleatóriamente, mas acaba priorizando a classe com maior número de dados. Veja abaixo que treinamos o nosso \"classificador\" e depois testamos o mesmo para saber se obteve um bom resultado. Nosso conjunto de teste tem o seguinte número de dados em cada um das classes: classe0: 21, classe1: 55 e classe2: 1174. Ao aplicar o \"classificador\" nesse conjunto de dados obtemos como resultado um score de 0.93. A confusion matrix mostra que erramos pouco, com destaque para a previsão do resultado da classe 2."
   ]
  },
  {
   "cell_type": "code",
   "execution_count": 14,
   "metadata": {},
   "outputs": [
    {
     "name": "stdout",
     "output_type": "stream",
     "text": [
      "Dados para teste:  [(0, 21), (1, 55), (2, 1174)]\n",
      "Dados previstos:  [(0, 19), (1, 52), (2, 1179)]\n",
      "Score para BC usando Decision Tree: 0.9310385431339435\n"
     ]
    }
   ],
   "source": [
    "# Bagging Classifier\n",
    "x_train, x_test, y_train, y_test = train_test_split(X,y,random_state=0)\n",
    "print(\"Dados para teste: \",sorted(Counter(y_test).items()))\n",
    "bc=BaggingClassifier(base_estimator=DecisionTreeClassifier(),random_state=0)\n",
    "m1=bc.fit(x_train,y_train)\n",
    "y_pred1=m1.predict(x_test)\n",
    "print(\"Dados previstos: \",sorted(Counter(y_pred1).items()))\n",
    "print(\"Score para BC usando Decision Tree:\", balanced_accuracy_score(y_test,y_pred1))"
   ]
  },
  {
   "cell_type": "code",
   "execution_count": 34,
   "metadata": {},
   "outputs": [
    {
     "name": "stdout",
     "output_type": "stream",
     "text": [
      "                   pre       rec       spe        f1       geo       iba       sup\n",
      "\n",
      "          0       1.00      0.90      1.00      0.95      0.95      0.90        21\n",
      "          1       0.94      0.89      1.00      0.92      0.94      0.88        55\n",
      "          2       0.99      1.00      0.89      1.00      0.94      0.90      1174\n",
      "\n",
      "avg / total       0.99      0.99      0.90      0.99      0.94      0.90      1250\n",
      "\n"
     ]
    }
   ],
   "source": [
    "print(classification_report_imbalanced(y_test,y_pred1))"
   ]
  },
  {
   "cell_type": "code",
   "execution_count": 21,
   "metadata": {},
   "outputs": [
    {
     "name": "stdout",
     "output_type": "stream",
     "text": [
      "\n"
     ]
    },
    {
     "data": {
      "image/png": "[encoded data removed]",
      "text/plain": [
       "<Figure size 432x288 with 2 Axes>"
      ]
     },
     "metadata": {
      "needs_background": "light"
     },
     "output_type": "display_data"
    }
   ],
   "source": [
    "cm_tree = confusion_matrix(y_test, y_pred1)\n",
    "plt.figure()\n",
    "plot_confusion_matrix(cm_tree, classes=[0,1,2],\n",
    "                      title='Usando Bagging Classifier sem correção')"
   ]
  },
  {
   "cell_type": "markdown",
   "metadata": {},
   "source": [
    "## Corrigindo o imbalanced"
   ]
  },
  {
   "cell_type": "markdown",
   "metadata": {},
   "source": [
    "Agora podemos tentar um outro classificador para fazer o rebalanceamento nas estimativas. Como primeiro exemplo, usamos o método \"BalancedBaggingClassifier\". Esse faz um \"resample\" de cada um dos subconjunto de dados da amostra para treinar cada um dos estimadores para depois combinar os resultados. Nesse caso, veja a diferença de classificação da classe0 e classe1 em relação ao primeiro método."
   ]
  },
  {
   "cell_type": "markdown",
   "metadata": {},
   "source": [
    "#### 1. Balanced Bagging Classifier"
   ]
  },
  {
   "cell_type": "code",
   "execution_count": 17,
   "metadata": {},
   "outputs": [
    {
     "name": "stdout",
     "output_type": "stream",
     "text": [
      "Dados para teste:  [(0, 21), (1, 55), (2, 1174)]\n",
      "Dados rebalanceados:  [(0, 61), (1, 168), (2, 1021)]\n",
      "Score para BBC usando Decision Tree: 0.898866739922958\n"
     ]
    }
   ],
   "source": [
    "bbc=BalancedBaggingClassifier(base_estimator=DecisionTreeClassifier(),sampling_strategy='auto',\n",
    "                             replacement=False,random_state=0)\n",
    "m2=bbc.fit(x_train,y_train)\n",
    "y_pred2=m2.predict(x_test)\n",
    "print(\"Dados para teste: \",sorted(Counter(y_test).items()))\n",
    "print(\"Dados rebalanceados: \",sorted(Counter(y_pred2).items()))\n",
    "print(\"Score para BBC usando Decision Tree:\", balanced_accuracy_score(y_test,y_pred2))"
   ]
  },
  {
   "cell_type": "code",
   "execution_count": 33,
   "metadata": {},
   "outputs": [
    {
     "name": "stdout",
     "output_type": "stream",
     "text": [
      "                   pre       rec       spe        f1       geo       iba       sup\n",
      "\n",
      "          0       0.31      0.90      0.97      0.46      0.93      0.87        21\n",
      "          1       0.30      0.93      0.90      0.46      0.91      0.84        55\n",
      "          2       0.99      0.86      0.92      0.92      0.89      0.79      1174\n",
      "\n",
      "avg / total       0.95      0.87      0.92      0.90      0.89      0.80      1250\n",
      "\n"
     ]
    }
   ],
   "source": [
    "print(classification_report_imbalanced(y_test,y_pred2))"
   ]
  },
  {
   "cell_type": "code",
   "execution_count": 18,
   "metadata": {},
   "outputs": [
    {
     "name": "stdout",
     "output_type": "stream",
     "text": [
      "Confusion matrix, without normalization\n"
     ]
    },
    {
     "data": {
      "image/png": "[encoded data removed]",
      "text/plain": [
       "<Figure size 432x288 with 2 Axes>"
      ]
     },
     "metadata": {
      "needs_background": "light"
     },
     "output_type": "display_data"
    }
   ],
   "source": [
    "cm_tree2 = confusion_matrix(y_test, y_pred2)\n",
    "plt.figure()\n",
    "plot_confusion_matrix(cm_tree2, classes=[0,1,2],\n",
    "                      title='Usando BalancedBaggingClassifier')"
   ]
  },
  {
   "cell_type": "markdown",
   "metadata": {},
   "source": [
    "#### 2. Forest of Randomized Trees\n",
    "No método ensemble usado a seguir cada uma das árvores da floresta tem uma amostra que é balanceada via bootstrap."
   ]
  },
  {
   "cell_type": "code",
   "execution_count": 22,
   "metadata": {},
   "outputs": [
    {
     "name": "stdout",
     "output_type": "stream",
     "text": [
      "Dados para teste:  [(0, 21), (1, 55), (2, 1174)]\n",
      "Dados rebalanceados:  [(0, 38), (1, 163), (2, 1049)]\n",
      "Score para BC usando Decision Tree: 0.8162289726173882\n"
     ]
    }
   ],
   "source": [
    "brf=BalancedRandomForestClassifier(n_estimators=100,random_state=0,sampling_strategy='auto', \n",
    "                                   replacement=False, n_jobs=1,warm_start=True)\n",
    "m3=brf.fit(x_train,y_train)\n",
    "y_pred3=m3.predict(x_test)\n",
    "print(\"Dados para teste: \",sorted(Counter(y_test).items()))\n",
    "print(\"Dados rebalanceados: \",sorted(Counter(y_pred3).items()))\n",
    "print(\"Score para BC usando Decision Tree:\", balanced_accuracy_score(y_test,y_pred3))"
   ]
  },
  {
   "cell_type": "code",
   "execution_count": 24,
   "metadata": {},
   "outputs": [
    {
     "name": "stdout",
     "output_type": "stream",
     "text": [
      "\n"
     ]
    },
    {
     "data": {
      "image/png": "[encoded data removed]",
      "text/plain": [
       "<Figure size 432x288 with 2 Axes>"
      ]
     },
     "metadata": {
      "needs_background": "light"
     },
     "output_type": "display_data"
    }
   ],
   "source": [
    "cm_tree3 = confusion_matrix(y_test, y_pred3)\n",
    "plt.figure()\n",
    "plot_confusion_matrix(cm_tree3, classes=[0,1,2],\n",
    "                      title='Usando BalancedRandomForestClassifier')"
   ]
  },
  {
   "cell_type": "markdown",
   "metadata": {},
   "source": [
    "#### 3. RUSBoostClassifier"
   ]
  },
  {
   "cell_type": "code",
   "execution_count": 25,
   "metadata": {},
   "outputs": [
    {
     "name": "stdout",
     "output_type": "stream",
     "text": [
      "Dados para teste:  [(0, 21), (1, 55), (2, 1174)]\n",
      "Dados rebalanceados:  [(0, 18), (1, 203), (2, 1029)]\n",
      "Score para BC usando Decision Tree: 0.7133247785717973\n"
     ]
    }
   ],
   "source": [
    "rus=RUSBoostClassifier(base_estimator=DecisionTreeClassifier(), n_estimators=100, learning_rate=1.0, \n",
    "                       algorithm='SAMME.R', sampling_strategy='auto', replacement=False, random_state=0)\n",
    "m4=rus.fit(x_train,y_train)\n",
    "y_pred4=m4.predict(x_test)\n",
    "print(\"Dados para teste: \",sorted(Counter(y_test).items()))\n",
    "print(\"Dados rebalanceados: \",sorted(Counter(y_pred4).items()))\n",
    "print(\"Score para BC usando Decision Tree:\", balanced_accuracy_score(y_test,y_pred4))"
   ]
  },
  {
   "cell_type": "code",
   "execution_count": 26,
   "metadata": {},
   "outputs": [
    {
     "name": "stdout",
     "output_type": "stream",
     "text": [
      "\n"
     ]
    },
    {
     "data": {
      "image/png": "[encoded data removed]",
      "text/plain": [
       "<Figure size 432x288 with 2 Axes>"
      ]
     },
     "metadata": {
      "needs_background": "light"
     },
     "output_type": "display_data"
    }
   ],
   "source": [
    "cm_tree4 = confusion_matrix(y_test, y_pred4)\n",
    "plt.figure()\n",
    "plot_confusion_matrix(cm_tree4, classes=[0,1,2],\n",
    "                      title='Usando RUSBoostClassifier')"
   ]
  },
  {
   "cell_type": "markdown",
   "metadata": {},
   "source": [
    "#### 4. EasyEnsembleClassifier"
   ]
  },
  {
   "cell_type": "code",
   "execution_count": 31,
   "metadata": {},
   "outputs": [
    {
     "name": "stdout",
     "output_type": "stream",
     "text": [
      "Dados para teste:  [(0, 21), (1, 55), (2, 1174)]\n",
      "Dados rebalanceados:  [(0, 391), (1, 83), (2, 776)]\n",
      "Score para BC usando Decision Tree: 0.7937921438773228\n"
     ]
    }
   ],
   "source": [
    "eec=EasyEnsembleClassifier(n_estimators=100, base_estimator=AdaBoostClassifier(), warm_start=True, \n",
    "                           sampling_strategy='auto', replacement=False, n_jobs=1, random_state=0, verbose=0)\n",
    "m5=eec.fit(x_train,y_train)\n",
    "y_pred5=m5.predict(x_test)\n",
    "print(\"Dados para teste: \",sorted(Counter(y_test).items()))\n",
    "print(\"Dados rebalanceados: \",sorted(Counter(y_pred5).items()))\n",
    "print(\"Score para BC usando Decision Tree:\", balanced_accuracy_score(y_test,y_pred5))"
   ]
  },
  {
   "cell_type": "code",
   "execution_count": 32,
   "metadata": {},
   "outputs": [
    {
     "name": "stdout",
     "output_type": "stream",
     "text": [
      "\n"
     ]
    },
    {
     "data": {
      "image/png": "[encoded data removed]",
      "text/plain": [
       "<Figure size 432x288 with 2 Axes>"
      ]
     },
     "metadata": {
      "needs_background": "light"
     },
     "output_type": "display_data"
    }
   ],
   "source": [
    "cm_tree5 = confusion_matrix(y_test, y_pred5)\n",
    "plt.figure()\n",
    "plot_confusion_matrix(cm_tree5, classes=[0,1,2],\n",
    "                      title='Usando EasyEnsembleClassifier')"
   ]
  },
  {
   "cell_type": "markdown",
   "metadata": {},
   "source": [
    "Uma boa discussão sobre o tema pode ser vista em:\n",
    "https://www.analyticsvidhya.com/blog/2018/06/comprehensive-guide-for-ensemble-models/ "
   ]
  }
 ],
 "metadata": {
  "kernelspec": {
   "display_name": "Python 3",
   "language": "python",
   "name": "python3"
  },
  "language_info": {
   "codemirror_mode": {
    "name": "ipython",
    "version": 3
   },
   "file_extension": ".py",
   "mimetype": "text/x-python",
   "name": "python",
   "nbconvert_exporter": "python",
   "pygments_lexer": "ipython3",
   "version": "3.6.7"
  }
 },
 "nbformat": 4,
 "nbformat_minor": 2
}
