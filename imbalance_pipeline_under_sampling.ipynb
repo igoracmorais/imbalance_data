{
 "cells": [
  {
   "cell_type": "code",
   "execution_count": 10,
   "metadata": {},
   "outputs": [],
   "source": [
    "from sklearn.datasets import make_classification\n",
    "from sklearn.model_selection import train_test_split\n",
    "from sklearn.metrics import classification_report, balanced_accuracy_score\n",
    "from sklearn.tree import DecisionTreeClassifier\n",
    "from sklearn.svm import LinearSVC\n",
    "from imblearn.pipeline import make_pipeline\n",
    "from imblearn.under_sampling import EditedNearestNeighbours, RepeatedEditedNearestNeighbours\n",
    "from imblearn.ensemble import BalancedBaggingClassifier, BalancedRandomForestClassifier\n",
    "import pandas as pd\n",
    "import numpy as np\n",
    "import matplotlib.pyplot as plt\n",
    "%matplotlib inline\n",
    "from mlxtend.plotting import plot_decision_regions\n",
    "from collections import Counter"
   ]
  },
  {
   "cell_type": "markdown",
   "metadata": {},
   "source": [
    "Podemos aplicar diferentes algoritmos de correção do imbalance ao mesmo tempo e obter um resumo das estimativas usando o recurso \"pipeline\". Abaixo criamos um banco de dados com três classes, sendo a classe0 a de menor número de dados. Depois criamos o banco de dados de treino e teste e usamos o classificador \"BalanceBaggingClassifier\" como algoritmo final de classificação. Porém, antes disso aplicamos dois outros algoritmos usados para re-amostragem em under_sampling para corrigir o problema do imbalance. Ao final, imprimimos os resultados em uma matriz de report."
   ]
  },
  {
   "cell_type": "code",
   "execution_count": 2,
   "metadata": {},
   "outputs": [
    {
     "name": "stdout",
     "output_type": "stream",
     "text": [
      "Dados em cada uma das classes [(0, 64), (1, 262), (2, 4674)]\n"
     ]
    }
   ],
   "source": [
    "X,y =make_classification(n_samples=5000, n_features=2, n_informative=2, n_classes=3, n_clusters_per_class=1,\n",
    "                        n_redundant=0,n_repeated=0,weights=[0.01,0.05,0.94],class_sep=0.8,random_state=0)\n",
    "print(\"Dados em cada uma das classes\",sorted(Counter(y).items()))"
   ]
  },
  {
   "cell_type": "code",
   "execution_count": 5,
   "metadata": {},
   "outputs": [
    {
     "name": "stdout",
     "output_type": "stream",
     "text": [
      "Dados em cada uma das classes [(0, 47), (1, 205), (2, 3498)]\n"
     ]
    }
   ],
   "source": [
    "x_train, x_test, y_train, y_test = train_test_split(X,y)\n",
    "print(\"Dados em cada uma das classes\",sorted(Counter(y_train).items()))"
   ]
  },
  {
   "cell_type": "code",
   "execution_count": 9,
   "metadata": {},
   "outputs": [
    {
     "name": "stdout",
     "output_type": "stream",
     "text": [
      "              precision    recall  f1-score   support\n",
      "\n",
      "           0       0.11      0.88      0.20        17\n",
      "           1       0.80      0.89      0.84        57\n",
      "           2       0.99      0.89      0.94      1176\n",
      "\n",
      "   micro avg       0.89      0.89      0.89      1250\n",
      "   macro avg       0.63      0.89      0.66      1250\n",
      "weighted avg       0.97      0.89      0.92      1250\n",
      "\n"
     ]
    }
   ],
   "source": [
    "bbc=BalancedBaggingClassifier(base_estimator=DecisionTreeClassifier(),sampling_strategy='auto',\n",
    "                             replacement=False,random_state=0)\n",
    "enn=EditedNearestNeighbours(random_state=0)\n",
    "renn=RepeatedEditedNearestNeighbours()\n",
    "pipeline=make_pipeline(enn,renn,bbc)\n",
    "pipeline.fit(x_train,y_train)\n",
    "y_pred=pipeline.predict(x_test)\n",
    "print(classification_report(y_test, y_pred))"
   ]
  }
 ],
 "metadata": {
  "kernelspec": {
   "display_name": "Python 3",
   "language": "python",
   "name": "python3"
  },
  "language_info": {
   "codemirror_mode": {
    "name": "ipython",
    "version": 3
   },
   "file_extension": ".py",
   "mimetype": "text/x-python",
   "name": "python",
   "nbconvert_exporter": "python",
   "pygments_lexer": "ipython3",
   "version": "3.6.7"
  }
 },
 "nbformat": 4,
 "nbformat_minor": 2
}
