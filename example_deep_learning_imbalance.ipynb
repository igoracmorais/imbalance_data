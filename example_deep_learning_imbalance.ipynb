{
 "cells": [
  {
   "cell_type": "code",
   "execution_count": 25,
   "metadata": {},
   "outputs": [],
   "source": [
    "from sklearn.datasets import make_classification\n",
    "from sklearn.svm import LinearSVC\n",
    "from sklearn.metrics import roc_auc_score\n",
    "from sklearn.metrics import balanced_accuracy_score, confusion_matrix\n",
    "from sklearn.model_selection import train_test_split\n",
    "import pandas as pd\n",
    "import numpy as np\n",
    "import matplotlib.pyplot as plt\n",
    "%matplotlib inline\n",
    "from mlxtend.plotting import plot_decision_regions\n",
    "from imblearn.over_sampling import RandomOverSampler, SMOTE, ADASYN, BorderlineSMOTE ,SMOTENC\n",
    "from collections import Counter\n",
    "from imblearn.keras import BalancedBatchGenerator\n",
    "import tensorflow\n",
    "from keras.models import Sequential\n",
    "from keras.layers import Activation, Dense, Dropout, BatchNormalization"
   ]
  },
  {
   "cell_type": "markdown",
   "metadata": {},
   "source": [
    "Vejamos como que um modelo de classificação fica prejudicado quando temos um conjunto de dados cujas classes possuem um problema de imbalance. Abaixo criamos o banco de dados. A seguir definimos o modelo de deep learning a ser aplicado e, por fim, rodamos o mesmo para os dados com imbalance."
   ]
  },
  {
   "cell_type": "code",
   "execution_count": 18,
   "metadata": {},
   "outputs": [
    {
     "name": "stdout",
     "output_type": "stream",
     "text": [
      "Dados em cada uma das classes [(0, 64), (1, 262), (2, 4674)]\n"
     ]
    }
   ],
   "source": [
    "X,y =make_classification(n_samples=5000, n_features=2, n_informative=2, n_classes=3, n_clusters_per_class=1,\n",
    "                        n_redundant=0,n_repeated=0,weights=[0.01,0.05,0.94],class_sep=0.8,random_state=0)\n",
    "print(\"Dados em cada uma das classes\",sorted(Counter(y).items()))"
   ]
  },
  {
   "cell_type": "code",
   "execution_count": 19,
   "metadata": {},
   "outputs": [],
   "source": [
    "def make_model(n_features):\n",
    "    model = Sequential()\n",
    "    model.add(Dense(200, input_shape=(n_features,),\n",
    "              kernel_initializer='glorot_normal'))\n",
    "    model.add(Activation('relu'))\n",
    "    model.add(BatchNormalization())\n",
    "    model.add(Dropout(0.5))\n",
    "    model.add(Dense(100, kernel_initializer='glorot_normal'))\n",
    "    model.add(Activation('relu'))\n",
    "    model.add(BatchNormalization())\n",
    "    model.add(Dropout(0.25))\n",
    "    model.add(Dense(50, kernel_initializer='glorot_normal'))\n",
    "    model.add(Activation('relu'))\n",
    "    model.add(BatchNormalization())\n",
    "    model.add(Dropout(0.15))\n",
    "    model.add(Dense(25, kernel_initializer='glorot_normal'))\n",
    "    model.add(Activation('relu'))\n",
    "    model.add(BatchNormalization())\n",
    "    model.add(Dropout(0.1))\n",
    "    model.add(Dense(1, activation='sigmoid'))\n",
    "\n",
    "    model.compile(loss='binary_crossentropy',\n",
    "                  optimizer='adam',\n",
    "                  metrics=['accuracy'])\n",
    "\n",
    "    return model"
   ]
  },
  {
   "cell_type": "code",
   "execution_count": 20,
   "metadata": {},
   "outputs": [],
   "source": [
    "import time\n",
    "from functools import wraps\n",
    "\n",
    "\n",
    "def timeit(f):\n",
    "    @wraps(f)\n",
    "    def wrapper(*args, **kwds):\n",
    "        start_time = time.time()\n",
    "        result = f(*args, **kwds)\n",
    "        elapsed_time = time.time() - start_time\n",
    "        print('Elapsed computation time: {:.3f} secs'\n",
    "              .format(elapsed_time))\n",
    "        return (elapsed_time, result)\n",
    "    return wrapper"
   ]
  },
  {
   "cell_type": "code",
   "execution_count": 39,
   "metadata": {},
   "outputs": [],
   "source": [
    "# Estimando o modelo de ANN sem correcao dos dados por imbalance\n",
    "@timeit\n",
    "def fit_predict_imbalanced_model(X_train, y_train, X_test, y_test):\n",
    "    model = make_model(X_train.shape[1])\n",
    "    model.fit(X_train, y_train, epochs=50, verbose=0, batch_size=100)\n",
    "    y_pred = model.predict_proba(X_test, batch_size=1000)\n",
    "    print(\"Score:\", balanced_accuracy_score(y_test,y_pred))\n",
    "    return y_pred"
   ]
  },
  {
   "cell_type": "code",
   "execution_count": 42,
   "metadata": {},
   "outputs": [],
   "source": [
    "# Corrigindo o imbalance data e depois estimando o modelo ANN\n",
    "@timeit\n",
    "def fit_predict_balanced_model(X_train, y_train, X_test, y_test):\n",
    "    model = make_model(X_train.shape[1])\n",
    "    training_generator = BalancedBatchGenerator(X_train, y_train,\n",
    "                                                batch_size=100,\n",
    "                                                random_state=42)\n",
    "    model.fit_generator(generator=training_generator, epochs=50, verbose=0)\n",
    "    y_pred = model.predict_proba(X_test)\n",
    "    print(\"Score:\", balanced_accuracy_score(y_test,y_pred))\n",
    "    return y_pred"
   ]
  },
  {
   "cell_type": "code",
   "execution_count": 37,
   "metadata": {},
   "outputs": [
    {
     "name": "stdout",
     "output_type": "stream",
     "text": [
      "Dados para teste:  [(0, 12), (1, 59), (2, 1179)]\n"
     ]
    }
   ],
   "source": [
    "x_train, x_test, y_train, y_test = train_test_split(X,y,random_state=0)\n",
    "print(\"Dados para teste: \",sorted(Counter(y_test).items()))"
   ]
  },
  {
   "cell_type": "code",
   "execution_count": 40,
   "metadata": {},
   "outputs": [
    {
     "name": "stdout",
     "output_type": "stream",
     "text": [
      "Score: 0.5833333333333334\n",
      "Elapsed computation time: 10.456 secs\n"
     ]
    }
   ],
   "source": [
    "m1=fit_predict_imbalanced_model(x_train, y_train, x_test, y_test)"
   ]
  }
 ],
 "metadata": {
  "kernelspec": {
   "display_name": "Python 3",
   "language": "python",
   "name": "python3"
  },
  "language_info": {
   "codemirror_mode": {
    "name": "ipython",
    "version": 3
   },
   "file_extension": ".py",
   "mimetype": "text/x-python",
   "name": "python",
   "nbconvert_exporter": "python",
   "pygments_lexer": "ipython3",
   "version": "3.6.7"
  }
 },
 "nbformat": 4,
 "nbformat_minor": 2
}
